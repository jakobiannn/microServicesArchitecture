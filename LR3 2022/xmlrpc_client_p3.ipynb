{
 "cells": [
  {
   "cell_type": "markdown",
   "metadata": {},
   "source": [
    "#### Файл клиента xmlrpc_client_p3.ipynb на Python 3"
   ]
  },
  {
   "cell_type": "code",
   "execution_count": null,
   "metadata": {},
   "outputs": [],
   "source": [
    "# xmlrpc_client.ipynb\n",
    "\n",
    "import xmlrpc.client\n",
    "\n",
    "server = xmlrpc.client.ServerProxy(\"http://localhost:8008\")\n",
    "\n",
    "print(server.system.listMethods())\n",
    "\n",
    "print ('Ping:', server.ping())\n",
    "print ('Server datetime:', server.now())\n",
    "print ('View, type, value:', server.type(2))\n",
    "print ('View, type, value:', server.type(2.))\n",
    "print ('View, type, value:', server.type('My string'))\n",
    "print ('View, type, value:', server.type(\"My string\"))\n",
    "print ('View, type, value:', server.type([1,2,3]))\n",
    "print ('View, type, value:', server.type([\"one\", \"two\", \"three\"]))\n",
    "print ('View, type, value:', server.type((1,2,\"3\")))\n",
    "print ('Sum 2 + 3 :', server.sum(2, 3))\n",
    "print ('Pow 2^3: ', server.pow(2, 3))\n"
   ]
  },
  {
   "cell_type": "code",
   "execution_count": null,
   "metadata": {},
   "outputs": [],
   "source": []
  }
 ],
 "metadata": {
  "kernelspec": {
   "display_name": "Python 3 (ipykernel)",
   "language": "python",
   "name": "python3"
  },
  "language_info": {
   "codemirror_mode": {
    "name": "ipython",
    "version": 3
   },
   "file_extension": ".py",
   "mimetype": "text/x-python",
   "name": "python",
   "nbconvert_exporter": "python",
   "pygments_lexer": "ipython3",
   "version": "3.9.7"
  }
 },
 "nbformat": 4,
 "nbformat_minor": 2
}
